{
  "nbformat": 4,
  "nbformat_minor": 0,
  "metadata": {
    "colab": {
      "name": "Midi_Generator.ipynb",
      "provenance": [],
      "collapsed_sections": [],
      "toc_visible": true
    },
    "kernelspec": {
      "name": "python3",
      "display_name": "Python 3"
    }
  },
  "cells": [
    {
      "cell_type": "markdown",
      "metadata": {
        "id": "Ss5_jfxFjGO_",
        "colab_type": "text"
      },
      "source": [
        "## Imports"
      ]
    },
    {
      "cell_type": "code",
      "metadata": {
        "id": "1VBqBuBYckiD",
        "colab_type": "code",
        "colab": {
          "base_uri": "https://localhost:8080/",
          "height": 34
        },
        "outputId": "ef6be47b-a2ee-48ef-e440-d959fec4a5ea"
      },
      "source": [
        "!pip install MIDIUtil"
      ],
      "execution_count": null,
      "outputs": [
        {
          "output_type": "stream",
          "text": [
            "Requirement already satisfied: MIDIUtil in /usr/local/lib/python3.6/dist-packages (1.2.1)\n"
          ],
          "name": "stdout"
        }
      ]
    },
    {
      "cell_type": "code",
      "metadata": {
        "id": "E1sy_F5iddt-",
        "colab_type": "code",
        "colab": {}
      },
      "source": [
        "from midiutil import MIDIFile\n",
        "import pickle as pk"
      ],
      "execution_count": null,
      "outputs": []
    },
    {
      "cell_type": "markdown",
      "metadata": {
        "id": "qLCUs_KSi-jV",
        "colab_type": "text"
      },
      "source": [
        "## Note to MIDI dictionary"
      ]
    },
    {
      "cell_type": "code",
      "metadata": {
        "id": "84Y3cnjodhFS",
        "colab_type": "code",
        "colab": {}
      },
      "source": [
        "note2midi = {\n",
        "    'C3':48,\n",
        "    'C#3':49,\n",
        "    'D3':50,\n",
        "    'D#3':51,\n",
        "    'E3':52,\n",
        "    'F3':53,\n",
        "    'F#3':54,\n",
        "    'G3':55,\n",
        "    'G#3':56,\n",
        "    'A3':57,\n",
        "    'A#3':58,\n",
        "    'B3':59,\n",
        "    'C4':60,\n",
        "    'C#4':61,\n",
        "    'D4':62,\n",
        "    'D#4':63,\n",
        "    'E4':64,\n",
        "    'F4':65,\n",
        "    'F#4':66,\n",
        "    'G4':67,\n",
        "    'G#4':68,\n",
        "    'A4':69,\n",
        "    'A#4':70,\n",
        "    'B4':71,\n",
        "    'C5':72,\n",
        "    'C#5':73,\n",
        "    'D5':74,\n",
        "    'D#5':75,\n",
        "    'E5':76,\n",
        "    'F5':77,\n",
        "    'F#5':78,\n",
        "    'G5':79,\n",
        "    'G#5':80,\n",
        "    'A5':81,\n",
        "    'A#5':82,\n",
        "    'B5':83,\n",
        "    'C6':84\n",
        "}"
      ],
      "execution_count": null,
      "outputs": []
    },
    {
      "cell_type": "code",
      "metadata": {
        "id": "IU7uRrxpjdrw",
        "colab_type": "code",
        "colab": {}
      },
      "source": [
        "def createMIDI(midi_data, output_midi_name,BPM=60):\n",
        "\n",
        "    track    = 0\n",
        "    channel  = 0\n",
        "    time     = 0    # In beats\n",
        "    tempo    = BPM  # In BPM\n",
        "    volume   = 100  # 0-127, as per the MIDI standard\n",
        "\n",
        "    MyMIDI = MIDIFile(1)  # One track, defaults to format 1 (tempo track is created\n",
        "                          # automatically)\n",
        "    MyMIDI.addTempo(track, time, tempo)\n",
        "\n",
        "    for i, pitch in enumerate(midi_data):\n",
        "      degree, duration = pitch\n",
        "      MyMIDI.addNote(track, channel, degree, time + i, duration, volume)\n",
        "\n",
        "    with open(output_midi_name, \"wb\") as output_file:\n",
        "        MyMIDI.writeFile(output_file)"
      ],
      "execution_count": null,
      "outputs": []
    },
    {
      "cell_type": "code",
      "metadata": {
        "id": "v8HxMd5LghwW",
        "colab_type": "code",
        "colab": {}
      },
      "source": [
        "def time2beat(tempo,time):\n",
        "  return time / tempo"
      ],
      "execution_count": null,
      "outputs": []
    },
    {
      "cell_type": "markdown",
      "metadata": {
        "id": "J9_8pgNSjSr2",
        "colab_type": "text"
      },
      "source": [
        "## Load File"
      ]
    },
    {
      "cell_type": "code",
      "metadata": {
        "id": "qpsAG0FjdPEr",
        "colab_type": "code",
        "colab": {}
      },
      "source": [
        "lyrics_file = '/content/ds.pickle'\n",
        "with open(lyrics_file, 'rb') as pickle_file:\n",
        "    ds = pk.load(pickle_file)"
      ],
      "execution_count": null,
      "outputs": []
    },
    {
      "cell_type": "markdown",
      "metadata": {
        "id": "3hW8QzLUjXCf",
        "colab_type": "text"
      },
      "source": [
        "## Convert line to MIDI"
      ]
    },
    {
      "cell_type": "code",
      "metadata": {
        "id": "VE1hhi_wfmKR",
        "colab_type": "code",
        "colab": {}
      },
      "source": [
        "line = ds[130][0]\n",
        "line_degrees = []\n",
        "BPM = 120\n",
        "beat = 0.2\n",
        "for subword in line:\n",
        "  line_degrees.append((note2midi[subword[1]],time2beat(beat,subword[2])))\n",
        "\n",
        "createMIDI(line_degrees, 'losing_my_religion.mid', BPM=BPM)"
      ],
      "execution_count": null,
      "outputs": []
    }
  ]
}