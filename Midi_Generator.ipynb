{
  "nbformat": 4,
  "nbformat_minor": 0,
  "metadata": {
    "colab": {
      "name": "Midi_Generator.ipynb",
      "provenance": [],
      "collapsed_sections": [],
      "toc_visible": true,
      "include_colab_link": true
    },
    "kernelspec": {
      "name": "python3",
      "display_name": "Python 3"
    }
  },
  "cells": [
    {
      "cell_type": "markdown",
      "metadata": {
        "id": "view-in-github",
        "colab_type": "text"
      },
      "source": [
        "<a href=\"https://colab.research.google.com/github/Danpollak/Word2Note/blob/master/Midi_Generator.ipynb\" target=\"_parent\"><img src=\"https://colab.research.google.com/assets/colab-badge.svg\" alt=\"Open In Colab\"/></a>"
      ]
    },
    {
      "cell_type": "markdown",
      "metadata": {
        "id": "Ss5_jfxFjGO_",
        "colab_type": "text"
      },
      "source": [
        "## Imports"
      ]
    },
    {
      "cell_type": "code",
      "metadata": {
        "id": "1VBqBuBYckiD",
        "colab_type": "code",
        "colab": {
          "base_uri": "https://localhost:8080/",
          "height": 201
        },
        "outputId": "bfbf6e2d-e5ed-44f2-a908-d9384a5a0986"
      },
      "source": [
        "!pip install MIDIUtil"
      ],
      "execution_count": 1,
      "outputs": [
        {
          "output_type": "stream",
          "text": [
            "Collecting MIDIUtil\n",
            "\u001b[?25l  Downloading https://files.pythonhosted.org/packages/f5/44/fde6772d8bfaea64fcf5eb948124d0a5fdf5f848b14ac22a23ced53e562d/MIDIUtil-1.2.1.tar.gz (1.0MB)\n",
            "\r\u001b[K     |▎                               | 10kB 14.5MB/s eta 0:00:01\r\u001b[K     |▋                               | 20kB 3.4MB/s eta 0:00:01\r\u001b[K     |█                               | 30kB 4.6MB/s eta 0:00:01\r\u001b[K     |█▎                              | 40kB 4.7MB/s eta 0:00:01\r\u001b[K     |█▋                              | 51kB 3.9MB/s eta 0:00:01\r\u001b[K     |██                              | 61kB 4.4MB/s eta 0:00:01\r\u001b[K     |██▎                             | 71kB 4.6MB/s eta 0:00:01\r\u001b[K     |██▋                             | 81kB 5.0MB/s eta 0:00:01\r\u001b[K     |███                             | 92kB 5.3MB/s eta 0:00:01\r\u001b[K     |███▎                            | 102kB 5.2MB/s eta 0:00:01\r\u001b[K     |███▋                            | 112kB 5.2MB/s eta 0:00:01\r\u001b[K     |███▉                            | 122kB 5.2MB/s eta 0:00:01\r\u001b[K     |████▏                           | 133kB 5.2MB/s eta 0:00:01\r\u001b[K     |████▌                           | 143kB 5.2MB/s eta 0:00:01\r\u001b[K     |████▉                           | 153kB 5.2MB/s eta 0:00:01\r\u001b[K     |█████▏                          | 163kB 5.2MB/s eta 0:00:01\r\u001b[K     |█████▌                          | 174kB 5.2MB/s eta 0:00:01\r\u001b[K     |█████▉                          | 184kB 5.2MB/s eta 0:00:01\r\u001b[K     |██████▏                         | 194kB 5.2MB/s eta 0:00:01\r\u001b[K     |██████▌                         | 204kB 5.2MB/s eta 0:00:01\r\u001b[K     |██████▉                         | 215kB 5.2MB/s eta 0:00:01\r\u001b[K     |███████▏                        | 225kB 5.2MB/s eta 0:00:01\r\u001b[K     |███████▍                        | 235kB 5.2MB/s eta 0:00:01\r\u001b[K     |███████▊                        | 245kB 5.2MB/s eta 0:00:01\r\u001b[K     |████████                        | 256kB 5.2MB/s eta 0:00:01\r\u001b[K     |████████▍                       | 266kB 5.2MB/s eta 0:00:01\r\u001b[K     |████████▊                       | 276kB 5.2MB/s eta 0:00:01\r\u001b[K     |█████████                       | 286kB 5.2MB/s eta 0:00:01\r\u001b[K     |█████████▍                      | 296kB 5.2MB/s eta 0:00:01\r\u001b[K     |█████████▊                      | 307kB 5.2MB/s eta 0:00:01\r\u001b[K     |██████████                      | 317kB 5.2MB/s eta 0:00:01\r\u001b[K     |██████████▍                     | 327kB 5.2MB/s eta 0:00:01\r\u001b[K     |██████████▊                     | 337kB 5.2MB/s eta 0:00:01\r\u001b[K     |███████████                     | 348kB 5.2MB/s eta 0:00:01\r\u001b[K     |███████████▎                    | 358kB 5.2MB/s eta 0:00:01\r\u001b[K     |███████████▋                    | 368kB 5.2MB/s eta 0:00:01\r\u001b[K     |████████████                    | 378kB 5.2MB/s eta 0:00:01\r\u001b[K     |████████████▎                   | 389kB 5.2MB/s eta 0:00:01\r\u001b[K     |████████████▋                   | 399kB 5.2MB/s eta 0:00:01\r\u001b[K     |█████████████                   | 409kB 5.2MB/s eta 0:00:01\r\u001b[K     |█████████████▎                  | 419kB 5.2MB/s eta 0:00:01\r\u001b[K     |█████████████▋                  | 430kB 5.2MB/s eta 0:00:01\r\u001b[K     |██████████████                  | 440kB 5.2MB/s eta 0:00:01\r\u001b[K     |██████████████▎                 | 450kB 5.2MB/s eta 0:00:01\r\u001b[K     |██████████████▋                 | 460kB 5.2MB/s eta 0:00:01\r\u001b[K     |██████████████▉                 | 471kB 5.2MB/s eta 0:00:01\r\u001b[K     |███████████████▏                | 481kB 5.2MB/s eta 0:00:01\r\u001b[K     |███████████████▌                | 491kB 5.2MB/s eta 0:00:01\r\u001b[K     |███████████████▉                | 501kB 5.2MB/s eta 0:00:01\r\u001b[K     |████████████████▏               | 512kB 5.2MB/s eta 0:00:01\r\u001b[K     |████████████████▌               | 522kB 5.2MB/s eta 0:00:01\r\u001b[K     |████████████████▉               | 532kB 5.2MB/s eta 0:00:01\r\u001b[K     |█████████████████▏              | 542kB 5.2MB/s eta 0:00:01\r\u001b[K     |█████████████████▌              | 552kB 5.2MB/s eta 0:00:01\r\u001b[K     |█████████████████▉              | 563kB 5.2MB/s eta 0:00:01\r\u001b[K     |██████████████████▏             | 573kB 5.2MB/s eta 0:00:01\r\u001b[K     |██████████████████▍             | 583kB 5.2MB/s eta 0:00:01\r\u001b[K     |██████████████████▊             | 593kB 5.2MB/s eta 0:00:01\r\u001b[K     |███████████████████             | 604kB 5.2MB/s eta 0:00:01\r\u001b[K     |███████████████████▍            | 614kB 5.2MB/s eta 0:00:01\r\u001b[K     |███████████████████▊            | 624kB 5.2MB/s eta 0:00:01\r\u001b[K     |████████████████████            | 634kB 5.2MB/s eta 0:00:01\r\u001b[K     |████████████████████▍           | 645kB 5.2MB/s eta 0:00:01\r\u001b[K     |████████████████████▊           | 655kB 5.2MB/s eta 0:00:01\r\u001b[K     |█████████████████████           | 665kB 5.2MB/s eta 0:00:01\r\u001b[K     |█████████████████████▍          | 675kB 5.2MB/s eta 0:00:01\r\u001b[K     |█████████████████████▊          | 686kB 5.2MB/s eta 0:00:01\r\u001b[K     |██████████████████████          | 696kB 5.2MB/s eta 0:00:01\r\u001b[K     |██████████████████████▎         | 706kB 5.2MB/s eta 0:00:01\r\u001b[K     |██████████████████████▋         | 716kB 5.2MB/s eta 0:00:01\r\u001b[K     |███████████████████████         | 727kB 5.2MB/s eta 0:00:01\r\u001b[K     |███████████████████████▎        | 737kB 5.2MB/s eta 0:00:01\r\u001b[K     |███████████████████████▋        | 747kB 5.2MB/s eta 0:00:01\r\u001b[K     |████████████████████████        | 757kB 5.2MB/s eta 0:00:01\r\u001b[K     |████████████████████████▎       | 768kB 5.2MB/s eta 0:00:01\r\u001b[K     |████████████████████████▋       | 778kB 5.2MB/s eta 0:00:01\r\u001b[K     |█████████████████████████       | 788kB 5.2MB/s eta 0:00:01\r\u001b[K     |█████████████████████████▎      | 798kB 5.2MB/s eta 0:00:01\r\u001b[K     |█████████████████████████▋      | 808kB 5.2MB/s eta 0:00:01\r\u001b[K     |█████████████████████████▉      | 819kB 5.2MB/s eta 0:00:01\r\u001b[K     |██████████████████████████▏     | 829kB 5.2MB/s eta 0:00:01\r\u001b[K     |██████████████████████████▌     | 839kB 5.2MB/s eta 0:00:01\r\u001b[K     |██████████████████████████▉     | 849kB 5.2MB/s eta 0:00:01\r\u001b[K     |███████████████████████████▏    | 860kB 5.2MB/s eta 0:00:01\r\u001b[K     |███████████████████████████▌    | 870kB 5.2MB/s eta 0:00:01\r\u001b[K     |███████████████████████████▉    | 880kB 5.2MB/s eta 0:00:01\r\u001b[K     |████████████████████████████▏   | 890kB 5.2MB/s eta 0:00:01\r\u001b[K     |████████████████████████████▌   | 901kB 5.2MB/s eta 0:00:01\r\u001b[K     |████████████████████████████▉   | 911kB 5.2MB/s eta 0:00:01\r\u001b[K     |█████████████████████████████▏  | 921kB 5.2MB/s eta 0:00:01\r\u001b[K     |█████████████████████████████▍  | 931kB 5.2MB/s eta 0:00:01\r\u001b[K     |█████████████████████████████▊  | 942kB 5.2MB/s eta 0:00:01\r\u001b[K     |██████████████████████████████  | 952kB 5.2MB/s eta 0:00:01\r\u001b[K     |██████████████████████████████▍ | 962kB 5.2MB/s eta 0:00:01\r\u001b[K     |██████████████████████████████▊ | 972kB 5.2MB/s eta 0:00:01\r\u001b[K     |███████████████████████████████ | 983kB 5.2MB/s eta 0:00:01\r\u001b[K     |███████████████████████████████▍| 993kB 5.2MB/s eta 0:00:01\r\u001b[K     |███████████████████████████████▊| 1.0MB 5.2MB/s eta 0:00:01\r\u001b[K     |████████████████████████████████| 1.0MB 5.2MB/s \n",
            "\u001b[?25hBuilding wheels for collected packages: MIDIUtil\n",
            "  Building wheel for MIDIUtil (setup.py) ... \u001b[?25l\u001b[?25hdone\n",
            "  Created wheel for MIDIUtil: filename=MIDIUtil-1.2.1-cp36-none-any.whl size=54571 sha256=f0d85a45331940252228602781c199ccfc1e3fabf09cacb3ede06acb13fd0b1f\n",
            "  Stored in directory: /root/.cache/pip/wheels/70/f1/24/97bde012f64820632e1e5e2935df19dfbcf9e058b0734b57cd\n",
            "Successfully built MIDIUtil\n",
            "Installing collected packages: MIDIUtil\n",
            "Successfully installed MIDIUtil-1.2.1\n"
          ],
          "name": "stdout"
        }
      ]
    },
    {
      "cell_type": "code",
      "metadata": {
        "id": "E1sy_F5iddt-",
        "colab_type": "code",
        "colab": {}
      },
      "source": [
        "from midiutil import MIDIFile"
      ],
      "execution_count": 2,
      "outputs": []
    },
    {
      "cell_type": "markdown",
      "metadata": {
        "id": "qLCUs_KSi-jV",
        "colab_type": "text"
      },
      "source": [
        "## Note to MIDI dictionary"
      ]
    },
    {
      "cell_type": "code",
      "metadata": {
        "id": "84Y3cnjodhFS",
        "colab_type": "code",
        "colab": {}
      },
      "source": [
        "note2midi = {\n",
        "    'C3':48,\n",
        "    'C#3':49,\n",
        "    'D3':50,\n",
        "    'D#3':51,\n",
        "    'E3':52,\n",
        "    'F3':53,\n",
        "    'F#3':54,\n",
        "    'G3':55,\n",
        "    'G#3':56,\n",
        "    'A3':57,\n",
        "    'A#3':58,\n",
        "    'B3':59,\n",
        "    'C4':60,\n",
        "    'C#4':61,\n",
        "    'D4':62,\n",
        "    'D#4':63,\n",
        "    'E4':64,\n",
        "    'F4':65,\n",
        "    'F#4':66,\n",
        "    'G4':67,\n",
        "    'G#4':68,\n",
        "    'A4':69,\n",
        "    'A#4':70,\n",
        "    'B4':71,\n",
        "    'C5':72,\n",
        "    'C#5':73,\n",
        "    'D5':74,\n",
        "    'D#5':75,\n",
        "    'E5':76,\n",
        "    'F5':77,\n",
        "    'F#5':78,\n",
        "    'G5':79,\n",
        "    'G#5':80,\n",
        "    'A5':81,\n",
        "    'A#5':82,\n",
        "    'B5':83,\n",
        "    'C6':84\n",
        "}"
      ],
      "execution_count": 3,
      "outputs": []
    },
    {
      "cell_type": "code",
      "metadata": {
        "id": "IU7uRrxpjdrw",
        "colab_type": "code",
        "colab": {}
      },
      "source": [
        "def createMIDI(midi_data, output_midi_name,BPM=60):\n",
        "\n",
        "    track    = 0\n",
        "    channel  = 0\n",
        "    time     = 0    # In beats\n",
        "    tempo    = BPM  # In BPM\n",
        "    volume   = 100  # 0-127, as per the MIDI standard\n",
        "\n",
        "    MyMIDI = MIDIFile(1)  # One track, defaults to format 1 (tempo track is created\n",
        "                          # automatically)\n",
        "    MyMIDI.addTempo(track, time, tempo)\n",
        "\n",
        "    for i, pitch in enumerate(midi_data):\n",
        "      degree, duration = pitch\n",
        "      if degree != 'BREAK':\n",
        "        MyMIDI.addNote(track, channel, degree, time , duration, volume)\n",
        "      time+=duration\n",
        "\n",
        "    with open(output_midi_name, \"wb\") as output_file:\n",
        "        MyMIDI.writeFile(output_file)"
      ],
      "execution_count": 4,
      "outputs": []
    },
    {
      "cell_type": "code",
      "metadata": {
        "id": "v8HxMd5LghwW",
        "colab_type": "code",
        "colab": {}
      },
      "source": [
        "def time2beat(tempo,time):\n",
        "  return time / tempo"
      ],
      "execution_count": 5,
      "outputs": []
    },
    {
      "cell_type": "code",
      "metadata": {
        "id": "DoiGxh5I_ofu",
        "colab_type": "code",
        "colab": {}
      },
      "source": [
        "def zip_note_line_first_note(line, with_breaks=False):\n",
        "  # Remove SOS\n",
        "  line = line[1:]\n",
        "  # Remove EOS\n",
        "  line= line[:line.index('EOS')]\n",
        "  zipped_line = []\n",
        "  last_note = ''\n",
        "  count = 0\n",
        "  for note in line:\n",
        "    if note.endswith('_S'):\n",
        "      if count > 0:\n",
        "        zipped_line.append((note2midi[last_note], count))\n",
        "        count = 0\n",
        "      count +=1\n",
        "      last_note = note[:-2]\n",
        "    elif note == 'BREAK':\n",
        "      if with_breaks:\n",
        "        zipped_line.append((note2midi[last_note], count))\n",
        "        zipped_line.append(('BREAK', 1))\n",
        "      else:\n",
        "        count +=1\n",
        "        zipped_line.append((note2midi[last_note], count))\n",
        "      count = 0\n",
        "    else:\n",
        "      count+=1\n",
        "  if count > 0:\n",
        "    zipped_line.append((note2midi[last_note], count))\n",
        "\n",
        "\n",
        "  return zipped_line"
      ],
      "execution_count": 6,
      "outputs": []
    },
    {
      "cell_type": "code",
      "metadata": {
        "id": "YkSQ9uIHtABI",
        "colab_type": "code",
        "colab": {}
      },
      "source": [
        "def zip_note_line_majority_note(line, with_breaks=False):\n",
        "  # Remove SOS\n",
        "  line = line[1:]\n",
        "  # Remove EOS\n",
        "  line= line[:line.index('EOS')]\n",
        "  zipped_line = []\n",
        "  note_arr = dict()\n",
        "  \n",
        "  for note in line:\n",
        "    if note.endswith('_S'):\n",
        "      if len(note_arr) > 0:\n",
        "        majority_note = max(note_arr, key=note_arr.get)\n",
        "        zipped_line.append((note2midi[majority_note], sum(note_arr.values())))\n",
        "        note_arr = dict()\n",
        "      note_char = note[:-2]\n",
        "      note_arr[note_char] = 1\n",
        "    elif note == 'BREAK':\n",
        "      if with_breaks:\n",
        "        majority_note = max(note_arr, key=note_arr.get)\n",
        "        zipped_line.append((note2midi[majority_note], sum(note_arr.values())))\n",
        "        zipped_line.append(('BREAK', 1))\n",
        "      else:\n",
        "        majority_note = max(note_arr, key=note_arr.get)\n",
        "        zipped_line.append((note2midi[majority_note], sum(note_arr.values())+1))\n",
        "      note_arr = dict()\n",
        "    else:\n",
        "      if note in note_arr:\n",
        "        note_arr[note]+=1\n",
        "      else:\n",
        "        note_arr[note] = 1\n",
        "  if len(note_arr) > 0:\n",
        "    majority_note = max(note_arr, key=note_arr.get)\n",
        "    zipped_line.append((majority_note, note_arr[majority_note]))\n",
        "\n",
        "  return zipped_line"
      ],
      "execution_count": 24,
      "outputs": []
    },
    {
      "cell_type": "markdown",
      "metadata": {
        "id": "J9_8pgNSjSr2",
        "colab_type": "text"
      },
      "source": [
        "#Write note line"
      ]
    },
    {
      "cell_type": "code",
      "metadata": {
        "id": "TVKwS1txAZJp",
        "colab_type": "code",
        "colab": {}
      },
      "source": [
        "note_line =   ['SOS', 'A4_S', 'A4', 'A4', 'C5', 'C5', 'C5', 'BREAK', 'C5_S', 'C5', 'D5', 'F#5', 'D5_S', 'D5', 'C5', 'C5', 'BREAK', 'C5_S', 'BREAK', 'EOS', 'EOS', 'EOS', 'EOS', 'EOS']\n",
        "gt_line = ['SOS', 'F4_S', 'F4', 'F4', 'F4', 'F4', 'F4', 'BREAK', 'G4_S', 'G4', 'G4', 'G4', 'G4_S', 'G4', 'G4', 'G4', 'BREAK', 'F4_S', 'BREAK', 'EOS', 'EOS', 'EOS', 'EOS', 'EOS']"
      ],
      "execution_count": 42,
      "outputs": []
    },
    {
      "cell_type": "markdown",
      "metadata": {
        "id": "3hW8QzLUjXCf",
        "colab_type": "text"
      },
      "source": [
        "## Convert line to MIDI"
      ]
    },
    {
      "cell_type": "code",
      "metadata": {
        "id": "VE1hhi_wfmKR",
        "colab_type": "code",
        "colab": {}
      },
      "source": [
        "first_note_line = zip_note_line_first_note(note_line)\n",
        "\n",
        "majority_note_line = zip_note_line_majority_note(note_line)\n",
        "\n",
        "gt_note_line = zip_note_line_first_note(gt_line)\n",
        "save_path = 'results/'\n",
        "sample_group = 'test'\n",
        "BPM = 180\n",
        "\n",
        "createMIDI(first_note_line, save_path + sample_group + '_first_note.mid', BPM=BPM)\n",
        "createMIDI(majority_note_line, save_path + sample_group+ '_majority_note.mid', BPM=BPM)\n",
        "createMIDI(gt_note_line, save_path + sample_group + '_gt.mid', BPM=BPM)"
      ],
      "execution_count": 43,
      "outputs": []
    }
  ]
}