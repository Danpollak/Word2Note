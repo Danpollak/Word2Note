{
  "nbformat": 4,
  "nbformat_minor": 0,
  "metadata": {
    "colab": {
      "name": "Midi_Generator.ipynb",
      "provenance": [],
      "collapsed_sections": [],
      "toc_visible": true,
      "include_colab_link": true
    },
    "kernelspec": {
      "name": "python3",
      "display_name": "Python 3"
    }
  },
  "cells": [
    {
      "cell_type": "markdown",
      "metadata": {
        "id": "view-in-github",
        "colab_type": "text"
      },
      "source": [
        "<a href=\"https://colab.research.google.com/github/Danpollak/Word2Note/blob/master/Midi_Generator.ipynb\" target=\"_parent\"><img src=\"https://colab.research.google.com/assets/colab-badge.svg\" alt=\"Open In Colab\"/></a>"
      ]
    },
    {
      "cell_type": "markdown",
      "metadata": {
        "id": "Ss5_jfxFjGO_",
        "colab_type": "text"
      },
      "source": [
        "## Imports"
      ]
    },
    {
      "cell_type": "code",
      "metadata": {
        "id": "1VBqBuBYckiD",
        "colab_type": "code",
        "colab": {
          "base_uri": "https://localhost:8080/",
          "height": 201
        },
        "outputId": "0170f820-1a23-48f1-eaf7-02457cd4ea22"
      },
      "source": [
        "!pip install MIDIUtil"
      ],
      "execution_count": 1,
      "outputs": [
        {
          "output_type": "stream",
          "text": [
            "Collecting MIDIUtil\n",
            "\u001b[?25l  Downloading https://files.pythonhosted.org/packages/f5/44/fde6772d8bfaea64fcf5eb948124d0a5fdf5f848b14ac22a23ced53e562d/MIDIUtil-1.2.1.tar.gz (1.0MB)\n",
            "\u001b[K     |████████████████████████████████| 1.0MB 2.7MB/s \n",
            "\u001b[?25hBuilding wheels for collected packages: MIDIUtil\n",
            "  Building wheel for MIDIUtil (setup.py) ... \u001b[?25l\u001b[?25hdone\n",
            "  Created wheel for MIDIUtil: filename=MIDIUtil-1.2.1-cp36-none-any.whl size=54571 sha256=d17b3791a69a07b368e2f3243fdd2ce63df56251338a44f1c9015e584f12af8d\n",
            "  Stored in directory: /root/.cache/pip/wheels/70/f1/24/97bde012f64820632e1e5e2935df19dfbcf9e058b0734b57cd\n",
            "Successfully built MIDIUtil\n",
            "Installing collected packages: MIDIUtil\n",
            "Successfully installed MIDIUtil-1.2.1\n"
          ],
          "name": "stdout"
        }
      ]
    },
    {
      "cell_type": "code",
      "metadata": {
        "id": "E1sy_F5iddt-",
        "colab_type": "code",
        "colab": {}
      },
      "source": [
        "from midiutil import MIDIFile"
      ],
      "execution_count": 2,
      "outputs": []
    },
    {
      "cell_type": "markdown",
      "metadata": {
        "id": "qLCUs_KSi-jV",
        "colab_type": "text"
      },
      "source": [
        "## Note to MIDI dictionary"
      ]
    },
    {
      "cell_type": "code",
      "metadata": {
        "id": "84Y3cnjodhFS",
        "colab_type": "code",
        "colab": {}
      },
      "source": [
        "note2midi = {\n",
        "    'C3':48,\n",
        "    'C#3':49,\n",
        "    'D3':50,\n",
        "    'D#3':51,\n",
        "    'E3':52,\n",
        "    'F3':53,\n",
        "    'F#3':54,\n",
        "    'G3':55,\n",
        "    'G#3':56,\n",
        "    'A3':57,\n",
        "    'A#3':58,\n",
        "    'B3':59,\n",
        "    'C4':60,\n",
        "    'C#4':61,\n",
        "    'D4':62,\n",
        "    'D#4':63,\n",
        "    'E4':64,\n",
        "    'F4':65,\n",
        "    'F#4':66,\n",
        "    'G4':67,\n",
        "    'G#4':68,\n",
        "    'A4':69,\n",
        "    'A#4':70,\n",
        "    'B4':71,\n",
        "    'C5':72,\n",
        "    'C#5':73,\n",
        "    'D5':74,\n",
        "    'D#5':75,\n",
        "    'E5':76,\n",
        "    'F5':77,\n",
        "    'F#5':78,\n",
        "    'G5':79,\n",
        "    'G#5':80,\n",
        "    'A5':81,\n",
        "    'A#5':82,\n",
        "    'B5':83,\n",
        "    'C6':84\n",
        "}"
      ],
      "execution_count": 3,
      "outputs": []
    },
    {
      "cell_type": "code",
      "metadata": {
        "id": "IU7uRrxpjdrw",
        "colab_type": "code",
        "colab": {}
      },
      "source": [
        "def createMIDI(midi_data, output_midi_name,BPM=60):\n",
        "\n",
        "    track    = 0\n",
        "    channel  = 0\n",
        "    time     = 0    # In beats\n",
        "    tempo    = BPM  # In BPM\n",
        "    volume   = 100  # 0-127, as per the MIDI standard\n",
        "\n",
        "    MyMIDI = MIDIFile(1)  # One track, defaults to format 1 (tempo track is created\n",
        "                          # automatically)\n",
        "    MyMIDI.addTempo(track, time, tempo)\n",
        "\n",
        "    for i, pitch in enumerate(midi_data):\n",
        "      degree, duration = pitch\n",
        "      if degree != 'BREAK':\n",
        "        MyMIDI.addNote(track, channel, degree, time , duration, volume)\n",
        "      time+=duration\n",
        "\n",
        "    with open(output_midi_name, \"wb\") as output_file:\n",
        "        MyMIDI.writeFile(output_file)"
      ],
      "execution_count": 45,
      "outputs": []
    },
    {
      "cell_type": "code",
      "metadata": {
        "id": "v8HxMd5LghwW",
        "colab_type": "code",
        "colab": {}
      },
      "source": [
        "def time2beat(tempo,time):\n",
        "  return time / tempo"
      ],
      "execution_count": null,
      "outputs": []
    },
    {
      "cell_type": "code",
      "metadata": {
        "id": "DoiGxh5I_ofu",
        "colab_type": "code",
        "colab": {}
      },
      "source": [
        "def zip_note_line(line, with_breaks=False):\n",
        "  # Remove SOS\n",
        "  line = line[1:]\n",
        "  # Remove EOS\n",
        "  line= line[:line.index('EOS')]\n",
        "  zipped_line = []\n",
        "  last_note = ''\n",
        "  count = 0\n",
        "  for note in line:\n",
        "    if note.endswith('_S'):\n",
        "      if count > 0:\n",
        "        zipped_line.append((note2midi[last_note], count))\n",
        "        count = 0\n",
        "      count +=1\n",
        "      last_note = note[:-2]\n",
        "    elif note == 'BREAK':\n",
        "      if with_breaks:\n",
        "        zipped_line.append(('BREAK', 1))\n",
        "        count=0\n",
        "      else:\n",
        "        count +=1\n",
        "      zipped_line.append((note2midi[last_note], count))\n",
        "      count = 0\n",
        "    else:\n",
        "      count+=1\n",
        "  if count > 0:\n",
        "    zipped_line.append((note2midi[last_note], count))\n",
        "\n",
        "\n",
        "  return zipped_line"
      ],
      "execution_count": 42,
      "outputs": []
    },
    {
      "cell_type": "markdown",
      "metadata": {
        "id": "J9_8pgNSjSr2",
        "colab_type": "text"
      },
      "source": [
        "#Write note line"
      ]
    },
    {
      "cell_type": "code",
      "metadata": {
        "id": "TVKwS1txAZJp",
        "colab_type": "code",
        "colab": {}
      },
      "source": [
        "note_line = ['SOS','C3_S','D3_S','E3_S','F3_S','G3_S','EOS']"
      ],
      "execution_count": 43,
      "outputs": []
    },
    {
      "cell_type": "markdown",
      "metadata": {
        "id": "3hW8QzLUjXCf",
        "colab_type": "text"
      },
      "source": [
        "## Convert line to MIDI"
      ]
    },
    {
      "cell_type": "code",
      "metadata": {
        "id": "VE1hhi_wfmKR",
        "colab_type": "code",
        "colab": {}
      },
      "source": [
        "line = zip_note_line(note_line)\n",
        "BPM = 120\n",
        "\n",
        "createMIDI(line, 'losing_my_religion.mid', BPM=BPM)"
      ],
      "execution_count": 46,
      "outputs": []
    }
  ]
}