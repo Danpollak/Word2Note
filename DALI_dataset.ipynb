{
  "nbformat": 4,
  "nbformat_minor": 0,
  "metadata": {
    "colab": {
      "name": "DALI dataset.ipynb",
      "provenance": [],
      "collapsed_sections": []
    },
    "kernelspec": {
      "name": "python3",
      "display_name": "Python 3"
    }
  },
  "cells": [
    {
      "cell_type": "code",
      "metadata": {
        "id": "C2A4xw2Amyn3",
        "colab_type": "code",
        "colab": {
          "base_uri": "https://localhost:8080/",
          "height": 159
        },
        "outputId": "1ee501b4-dc7b-4dd3-a071-f67f7aa14ab7"
      },
      "source": [
        "!pip install dali-dataset"
      ],
      "execution_count": null,
      "outputs": [
        {
          "output_type": "stream",
          "text": [
            "Collecting dali-dataset\n",
            "  Downloading https://files.pythonhosted.org/packages/9a/e8/e75fb4d9ab85e495aa7de120ff6cb0b78fab81d350f72d13a5fb0b506c07/DALI_dataset-1.1-py3-none-any.whl\n",
            "Collecting youtube-dl\n",
            "\u001b[?25l  Downloading https://files.pythonhosted.org/packages/61/1c/a86837929eff24827b117d577584cc1a2a85dfdb5a91465d17c8b298f0d0/youtube_dl-2020.7.28-py2.py3-none-any.whl (1.8MB)\n",
            "\u001b[K     |████████████████████████████████| 1.8MB 4.9MB/s \n",
            "\u001b[?25hInstalling collected packages: youtube-dl, dali-dataset\n",
            "Successfully installed dali-dataset-1.1 youtube-dl-2020.7.28\n"
          ],
          "name": "stdout"
        }
      ]
    },
    {
      "cell_type": "code",
      "metadata": {
        "id": "caHeyZbUiQvC",
        "colab_type": "code",
        "colab": {
          "base_uri": "https://localhost:8080/",
          "height": 393
        },
        "outputId": "7f80c7ca-73c6-4859-9d0f-43ace905841d"
      },
      "source": [
        "from google.colab import drive\n",
        "import os\n",
        "import DALI as dali_code\n",
        "from math import log2, pow\n",
        "import pickle as pk\n",
        "import re\n",
        "import copy"
      ],
      "execution_count": null,
      "outputs": [
        {
          "output_type": "error",
          "ename": "ModuleNotFoundError",
          "evalue": "ignored",
          "traceback": [
            "\u001b[0;31m---------------------------------------------------------------------------\u001b[0m",
            "\u001b[0;31mModuleNotFoundError\u001b[0m                       Traceback (most recent call last)",
            "\u001b[0;32m<ipython-input-1-ee1d8969e744>\u001b[0m in \u001b[0;36m<module>\u001b[0;34m()\u001b[0m\n\u001b[1;32m      1\u001b[0m \u001b[0;32mfrom\u001b[0m \u001b[0mgoogle\u001b[0m\u001b[0;34m.\u001b[0m\u001b[0mcolab\u001b[0m \u001b[0;32mimport\u001b[0m \u001b[0mdrive\u001b[0m\u001b[0;34m\u001b[0m\u001b[0;34m\u001b[0m\u001b[0m\n\u001b[1;32m      2\u001b[0m \u001b[0;32mimport\u001b[0m \u001b[0mos\u001b[0m\u001b[0;34m\u001b[0m\u001b[0;34m\u001b[0m\u001b[0m\n\u001b[0;32m----> 3\u001b[0;31m \u001b[0;32mimport\u001b[0m \u001b[0mDALI\u001b[0m \u001b[0;32mas\u001b[0m \u001b[0mdali_code\u001b[0m\u001b[0;34m\u001b[0m\u001b[0;34m\u001b[0m\u001b[0m\n\u001b[0m\u001b[1;32m      4\u001b[0m \u001b[0;32mfrom\u001b[0m \u001b[0mmath\u001b[0m \u001b[0;32mimport\u001b[0m \u001b[0mlog2\u001b[0m\u001b[0;34m,\u001b[0m \u001b[0mpow\u001b[0m\u001b[0;34m\u001b[0m\u001b[0;34m\u001b[0m\u001b[0m\n\u001b[1;32m      5\u001b[0m \u001b[0;32mimport\u001b[0m \u001b[0mpickle\u001b[0m \u001b[0;32mas\u001b[0m \u001b[0mpk\u001b[0m\u001b[0;34m\u001b[0m\u001b[0;34m\u001b[0m\u001b[0m\n",
            "\u001b[0;31mModuleNotFoundError\u001b[0m: No module named 'DALI'",
            "",
            "\u001b[0;31m---------------------------------------------------------------------------\u001b[0;32m\nNOTE: If your import is failing due to a missing package, you can\nmanually install dependencies using either !pip or !apt.\n\nTo view examples of installing some common dependencies, click the\n\"Open Examples\" button below.\n\u001b[0;31m---------------------------------------------------------------------------\u001b[0m\n"
          ]
        }
      ]
    },
    {
      "cell_type": "code",
      "metadata": {
        "id": "XRCW4fHinGMH",
        "colab_type": "code",
        "colab": {
          "base_uri": "https://localhost:8080/",
          "height": 124
        },
        "outputId": "e839e29d-71e7-4ea3-8124-f633e0101a04"
      },
      "source": [
        "drive.mount('/content/drive')\n",
        "\n",
        "# Confirmation that the drive has been mounted correctly\n",
        "dali_data_path = '/content/drive/My Drive/Colab Notebooks/DALI'\n",
        "#os.listdir(drive_path)\n"
      ],
      "execution_count": null,
      "outputs": [
        {
          "output_type": "stream",
          "text": [
            "Go to this URL in a browser: https://accounts.google.com/o/oauth2/auth?client_id=947318989803-6bn6qk8qdgf4n4g3pfee6491hc0brc4i.apps.googleusercontent.com&redirect_uri=urn%3aietf%3awg%3aoauth%3a2.0%3aoob&response_type=code&scope=email%20https%3a%2f%2fwww.googleapis.com%2fauth%2fdocs.test%20https%3a%2f%2fwww.googleapis.com%2fauth%2fdrive%20https%3a%2f%2fwww.googleapis.com%2fauth%2fdrive.photos.readonly%20https%3a%2f%2fwww.googleapis.com%2fauth%2fpeopleapi.readonly\n",
            "\n",
            "Enter your authorization code:\n",
            "··········\n",
            "Mounted at /content/drive\n"
          ],
          "name": "stdout"
        }
      ]
    },
    {
      "cell_type": "code",
      "metadata": {
        "id": "7fQtM6hRo_Ld",
        "colab_type": "code",
        "colab": {
          "base_uri": "https://localhost:8080/",
          "height": 34
        },
        "outputId": "15d14a4f-d94c-457b-e0e2-e23044ec9633"
      },
      "source": [
        "# Load the dataset, takes time\n",
        "\n",
        "# Load all the dataset\n",
        "# dali_data = dali_code.get_the_DALI_dataset(dali_data_path, skip=[], keep=[])\n",
        "\n",
        "# load sample data\n",
        "dali_data = dali_code.get_the_DALI_dataset(dali_data_path, skip=[],\n",
        "                                           keep=['00c4f2efb0b143728113fad1a78d6ce3','00d5c65d644c4a549e7d501d65397b7b','00d9de583ea3498db32ee187f6b66dd6', '00d52567b07b4a819aa6149d2fbfbfd5', '00dae9818fe74c15897e4e7c52e75294'])\n",
        "\n",
        "# Confirmation of data load\n",
        "# Should print ['DALI_ID' 'NAME' 'YOUTUBE' 'WORKING'] if working\n",
        "dali_info = dali_code.get_info(dali_data_path + '/info/DALI_DATA_INFO.gz')\n",
        "print(dali_info[0])"
      ],
      "execution_count": null,
      "outputs": [
        {
          "output_type": "stream",
          "text": [
            "['DALI_ID' 'NAME' 'YOUTUBE' 'WORKING']\n"
          ],
          "name": "stdout"
        }
      ]
    },
    {
      "cell_type": "code",
      "metadata": {
        "id": "DnwRrdmEzPcu",
        "colab_type": "code",
        "colab": {}
      },
      "source": [
        "# Auxilary functions to preprocess dataset\n",
        "A4 = 440\n",
        "C0 = A4*pow(2, -4.75)\n",
        "name = [\"C\", \"C#\", \"D\", \"D#\", \"E\", \"F\", \"F#\", \"G\", \"G#\", \"A\", \"A#\", \"B\"]\n",
        "    \n",
        "def pitch(freq):\n",
        "    h = round(12*log2(freq/C0))\n",
        "    octave = h // 12\n",
        "    n = h % 12\n",
        "    return name[n] + str(octave)\n",
        "\n",
        "def round_time_delta(delta):\n",
        "  d = delta*10\n",
        "  d = round(d)\n",
        "  return d/10"
      ],
      "execution_count": null,
      "outputs": []
    },
    {
      "cell_type": "code",
      "metadata": {
        "id": "UATXq4php8_6",
        "colab_type": "code",
        "colab": {}
      },
      "source": [
        "data_song_keys = list(dali_data.keys())\n",
        "only_char_reg = re.compile(\"[^a-zA-Z_\\']\")\n",
        "ds = []\n",
        "\n",
        "for song in data_song_keys:\n",
        "  # get the data\n",
        "  song_info = dali_data[song].info\n",
        "  song_annotations = dali_data[song].annotations\n",
        "\n",
        "  # remove non-english songs\n",
        "  if song_info['metadata']['language'] != 'english':\n",
        "    continue\n",
        "\n",
        "  if song_annotations['type'] != 'vertical':\n",
        "    dali_data[song].horizontal2vertical()\n",
        "\n",
        "  # iterate over paragraphs\n",
        "  for paragraph in song_annotations['annot']['hierarchical']:\n",
        "    for line in paragraph['text']:\n",
        "      line_in_notes = []\n",
        "      line_in_words = ''\n",
        "      for word in line['text']:\n",
        "        for note in word['text']:\n",
        "          note_text = only_char_reg.sub('',note['text'])\n",
        "          delta = round_time_delta(note['time'][1]-note['time'][0])\n",
        "          ref_note = [note_text,pitch(note['freq'][0]),delta]\n",
        "          line_in_notes.append(ref_note)\n",
        "          line_in_words = line_in_words + note_text\n",
        "        line_in_words = line_in_words + ' '\n",
        "      ds.append([line_in_notes,line_in_words])"
      ],
      "execution_count": null,
      "outputs": []
    },
    {
      "cell_type": "code",
      "metadata": {
        "id": "hyyMja-_9On-",
        "colab_type": "code",
        "colab": {}
      },
      "source": [
        "output =  '/content/ds.pickle'\n",
        "with open(output, 'wb') as pickle_file:\n",
        "    pk.dump(ds,pickle_file,protocol=pk.HIGHEST_PROTOCOL)\n"
      ],
      "execution_count": null,
      "outputs": []
    },
    {
      "cell_type": "code",
      "metadata": {
        "id": "yK5JlXS7xWj8",
        "colab_type": "code",
        "colab": {}
      },
      "source": [
        "with open(output, 'rb') as pickle_file:\n",
        "    dss = pk.load(pickle_file)\n",
        "    #upickler = pk.Unpickler(pickle_file)\n",
        "    #ds = upickler.load()"
      ],
      "execution_count": null,
      "outputs": []
    },
    {
      "cell_type": "code",
      "metadata": {
        "id": "vKfuEMYaz_sU",
        "colab_type": "code",
        "colab": {}
      },
      "source": [
        "for song in ds:\n",
        "  print(song[0])"
      ],
      "execution_count": null,
      "outputs": []
    }
  ]
}